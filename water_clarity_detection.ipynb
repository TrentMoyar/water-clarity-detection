{
  "nbformat": 4,
  "nbformat_minor": 0,
  "metadata": {
    "colab": {
      "name": "water-clarity-detection.ipynb",
      "provenance": [],
      "mount_file_id": "1yfAyLdStiVmjacAhcH4cQpWtFAX-L_4e",
      "authorship_tag": "ABX9TyN1kZoH8HPN0TxLGdNWA8PV",
      "include_colab_link": true
    },
    "kernelspec": {
      "name": "python3",
      "display_name": "Python 3"
    },
    "language_info": {
      "name": "python"
    }
  },
  "cells": [
    {
      "cell_type": "markdown",
      "metadata": {
        "id": "view-in-github",
        "colab_type": "text"
      },
      "source": [
        "<a href=\"https://colab.research.google.com/github/beeanerd/water-clarity-detection/blob/main/water_clarity_detection.ipynb\" target=\"_parent\"><img src=\"https://colab.research.google.com/assets/colab-badge.svg\" alt=\"Open In Colab\"/></a>"
      ]
    },
    {
      "cell_type": "code",
      "metadata": {
        "colab": {
          "base_uri": "https://localhost:8080/"
        },
        "id": "PSyx7jWpLz4G",
        "outputId": "5007e28f-a83a-410c-bf56-5ca3cb6455c1"
      },
      "source": [
        "!pip install opencv-python numpy imutils argparse\n"
      ],
      "execution_count": 1,
      "outputs": [
        {
          "output_type": "stream",
          "text": [
            "Requirement already satisfied: opencv-python in /usr/local/lib/python3.7/dist-packages (4.1.2.30)\n",
            "Requirement already satisfied: numpy in /usr/local/lib/python3.7/dist-packages (1.19.5)\n",
            "Requirement already satisfied: imutils in /usr/local/lib/python3.7/dist-packages (0.5.4)\n",
            "Requirement already satisfied: argparse in /usr/local/lib/python3.7/dist-packages (1.4.0)\n"
          ],
          "name": "stdout"
        }
      ]
    },
    {
      "cell_type": "code",
      "metadata": {
        "id": "mGfz-cZCNnf-"
      },
      "source": [
        "!cd drive/MyDrive/images/ "
      ],
      "execution_count": 6,
      "outputs": []
    },
    {
      "cell_type": "code",
      "metadata": {
        "id": "CsmhlP8FI4pH"
      },
      "source": [
        "import argparse\n",
        "import math\n",
        "import cv2 as cv\n",
        "import numpy as np\n",
        "from imutils import paths"
      ],
      "execution_count": 8,
      "outputs": []
    },
    {
      "cell_type": "code",
      "metadata": {
        "id": "_5wR-L0oLS1r"
      },
      "source": [
        "def blur_scoring(image):\n",
        "    return cv.Laplacian(image, cv.CV_64F).var()"
      ],
      "execution_count": 9,
      "outputs": []
    },
    {
      "cell_type": "code",
      "metadata": {
        "id": "qkqe8TvFLYEe"
      },
      "source": [
        "def save_image(image_list):                     # image_list = (name/path, img file)\n",
        "    good_saves = 0\n",
        "    bad_saves = 0\n",
        "    for image_tuples in image_list:\n",
        "        for name, image in image_tuples:\n",
        "            check = cv.imwrite(name, image)\n",
        "            if check:\n",
        "                good_saves += 1\n",
        "            else:\n",
        "                print(f\"{name} failed to save\")\n",
        "                bad_saves += 1\n",
        "    print(f\"Proper saves: {good_saves}\\nFailed saved: {bad_saves}\")"
      ],
      "execution_count": 10,
      "outputs": []
    },
    {
      "cell_type": "code",
      "metadata": {
        "id": "nLsrc6bPLoGk"
      },
      "source": [
        "def hough_line_drawing(images):\n",
        "    image_files_to_save = list()\n",
        "    for count, imgPath in enumerate(images):\n",
        "        image = cv.imread(imgPath)\n",
        "        image2 = np.copy(image)\n",
        "        print(imgPath)\n",
        "        # gray = cv.imread(cv.samples.findFile(imgPath), cv.IMREAD_GRAYSCALE)\n",
        "        gray = cv.cvtColor(image, cv.COLOR_BGR2GRAY)\n",
        "        print(\"gray\")\n",
        "        blur = cv.medianBlur(gray, 5)\n",
        "        print(\"blur\")\n",
        "        adapt_type = cv.ADAPTIVE_THRESH_GAUSSIAN_C\n",
        "        thresh_type = cv.THRESH_BINARY_INV\n",
        "        threshold = cv.adaptiveThreshold(blur, 255, adapt_type, thresh_type, 41, 20)\n",
        "        # threshold, image_result = cv.threshold(blur, 255, 0, cv.THRESH_BINARY + cv.THRESH_OTSU)\n",
        "        sharpen_kernel = np.array([[-1, -1, -1], [-1, 9, -1], [-1, -1, -1]])\n",
        "        fm = cv.filter2D(threshold, -1, sharpen_kernel)\n",
        "        print(\"adaptiveThreshold\")\n",
        "        # fm = variance_of_laplacian(gray)                                        ### Used to calculate the blurriness\n",
        "        # fm = cv.Canny(image, 50, 200)                                           ### Canny looks promising but it restricts too much, maybe play with thresh?\n",
        "        rho, theta, thresh = 2, np.pi / 180, 400\n",
        "        lines = cv.HoughLines(fm, rho, theta, thresh)\n",
        "        if lines is not None:\n",
        "            for i in range(0, len(lines)):\n",
        "                rho = lines[i][0][0]\n",
        "                theta = lines[i][0][1]\n",
        "                a = math.cos(theta)\n",
        "                b = math.sin(theta)\n",
        "                x0 = a * rho\n",
        "                y0 = b * rho\n",
        "                pt1 = (int(x0 + 1000 * (-b)), int(y0 + 1000 * (a)))\n",
        "                pt2 = (int(x0 - 1000 * (-b)), int(y0 - 1000 * (a)))\n",
        "                cv.line(image2, pt1, pt2, (0, 0, 255), 3, cv.LINE_AA)\n",
        "        rho, theta, thresh = 2, np.pi / 180, 400\n",
        "        lines_p = cv.HoughLinesP(fm, 1, np.pi / 180, 50, None, 50, 10)\n",
        "        if lines_p is not None:\n",
        "            for i in range(0, len(lines_p)):\n",
        "                l = lines_p[i][0]\n",
        "                cv.line(image, (l[0], l[1]), (l[2], l[3]), (0, 0, 255), 3, cv.LINE_AA)\n",
        "        name = (f\"Probability Hough Line - Standard Preprocessing - {imgPath}\", image)\n",
        "        name2 = (f\"Hough Line - Standard Preprocessing - {imgPath}\", image2)\n",
        "        name3 = (f\"B&W Image - Standard Preprocessing - {imgPath}\", fm)\n",
        "        image_files_to_save.append((name, name2, name3))\n",
        "        cv.imshow(\"Probability Hough Line Standard Preprocessing\", image)\n",
        "        cv.putText(fm, f\"{fm}\", (10, 30), cv.FONT_HERSHEY_SIMPLEX, 0.8, (0, 0, 255), 3)\n",
        "        cv.imshow(\"Hough Line with Standard Preprocessing\", image2)\n",
        "        cv.imshow(\"B&W Image\", fm)\n",
        "        key = cv.waitKey(0)\n",
        "    return image_files_to_save"
      ],
      "execution_count": 11,
      "outputs": []
    },
    {
      "cell_type": "code",
      "metadata": {
        "id": "kGEg_5mmLsW-"
      },
      "source": [
        "def main():\n",
        "    # This is going to process the image and set it to output purely the edges, plan is to run hough line detection on this\n",
        "    # Which will maybe fix the issue with to many lines being represented\n",
        "\n",
        "    ap = argparse.ArgumentParser()\n",
        "    ap.add_argument(\"-i\", \"--images\", required=True, help=\"path to input directory of images\")\n",
        "    args = vars(ap.parse_args())\n",
        "    images = paths.list_images(args[\"images\"])\n",
        "    # thresh_vals = otsu_binarization(images)\n",
        "    to_save = hough_line_drawing(images)\n",
        "    save_image(to_save)"
      ],
      "execution_count": 12,
      "outputs": []
    },
    {
      "cell_type": "code",
      "metadata": {
        "colab": {
          "base_uri": "https://localhost:8080/",
          "height": 180
        },
        "id": "_2cWglPRLvuP",
        "outputId": "75bb4dd6-61a2-43a2-ed6c-0e3a3faa3000"
      },
      "source": [
        "if __name__ == \"__main__\":\n",
        "    main()"
      ],
      "execution_count": 13,
      "outputs": [
        {
          "output_type": "stream",
          "text": [
            "usage: ipykernel_launcher.py [-h] -i IMAGES\n",
            "ipykernel_launcher.py: error: the following arguments are required: -i/--images\n"
          ],
          "name": "stderr"
        },
        {
          "output_type": "error",
          "ename": "SystemExit",
          "evalue": "ignored",
          "traceback": [
            "An exception has occurred, use %tb to see the full traceback.\n",
            "\u001b[0;31mSystemExit\u001b[0m\u001b[0;31m:\u001b[0m 2\n"
          ]
        },
        {
          "output_type": "stream",
          "text": [
            "/usr/local/lib/python3.7/dist-packages/IPython/core/interactiveshell.py:2890: UserWarning: To exit: use 'exit', 'quit', or Ctrl-D.\n",
            "  warn(\"To exit: use 'exit', 'quit', or Ctrl-D.\", stacklevel=1)\n"
          ],
          "name": "stderr"
        }
      ]
    },
    {
      "cell_type": "code",
      "metadata": {
        "colab": {
          "base_uri": "https://localhost:8080/"
        },
        "id": "SVfWC3MyOIQp",
        "outputId": "e6675add-6cd6-47cf-8a06-aeaa2e3d0978"
      },
      "source": [
        "!python main.py --images \"/drive/MyDrive/images/\""
      ],
      "execution_count": 14,
      "outputs": [
        {
          "output_type": "stream",
          "text": [
            "python3: can't open file 'main.py': [Errno 2] No such file or directory\n"
          ],
          "name": "stdout"
        }
      ]
    }
  ]
}